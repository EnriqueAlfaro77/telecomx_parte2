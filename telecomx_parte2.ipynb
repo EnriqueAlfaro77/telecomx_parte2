{
  "nbformat": 4,
  "nbformat_minor": 0,
  "metadata": {
    "colab": {
      "provenance": [],
      "authorship_tag": "ABX9TyM70IJHYv/9nH2i+Fpez9KH",
      "include_colab_link": true
    },
    "kernelspec": {
      "name": "python3",
      "display_name": "Python 3"
    },
    "language_info": {
      "name": "python"
    }
  },
  "cells": [
    {
      "cell_type": "markdown",
      "metadata": {
        "id": "view-in-github",
        "colab_type": "text"
      },
      "source": [
        "<a href=\"https://colab.research.google.com/github/EnriqueAlfaro77/telecomx_parte2/blob/main/telecomx_parte2.ipynb\" target=\"_parent\"><img src=\"https://colab.research.google.com/assets/colab-badge.svg\" alt=\"Open In Colab\"/></a>"
      ]
    },
    {
      "cell_type": "code",
      "execution_count": 1,
      "metadata": {
        "id": "nn_verRfb29b"
      },
      "outputs": [],
      "source": [
        "import pandas as pd\n",
        "import numpy as np\n",
        "import requests\n",
        "\n",
        "# 1. Cargar JSON desde la URL\n",
        "url = \"https://raw.githubusercontent.com/ingridcristh/challenge2-data-science-LATAM/main/TelecomX_Data.json\"\n",
        "data = requests.get(url).json()\n",
        "\n",
        "# 2. Normalizar el JSON anidado\n",
        "df = pd.json_normalize(data)\n",
        "\n",
        "# 3. Renombrar columnas\n",
        "df.rename(columns=lambda x: x.replace('.', '_').lower(), inplace=True)\n",
        "\n",
        "# 4. Limpieza de columnas binarias\n",
        "cols_binarias = [\n",
        "    'churn',\n",
        "    'customer_partner',\n",
        "    'customer_dependents',\n",
        "    'phone_phoneservice',\n",
        "    'account_paperlessbilling'\n",
        "]\n",
        "for col in cols_binarias:\n",
        "    df[col] = df[col].map({'Yes': 1, 'No': 0})\n",
        "\n",
        "# 5. Eliminar valores nulos en churn\n",
        "df = df.dropna(subset=['churn'])\n",
        "\n",
        "# 6. Codificación de otras columnas\n",
        "# Género\n",
        "df['customer_gender'] = df['customer_gender'].map({'Male': 1, 'Female': 0})\n",
        "# Servicio de internet\n",
        "df['internet_internetservice'] = df['internet_internetservice'].map({\n",
        "    'No': 0,\n",
        "    'DSL': 1,\n",
        "    'Fiber optic': 2\n",
        "})\n",
        "# Contrato simple\n",
        "df['account_contract_simple'] = df['account_contract'].map({\n",
        "    'Month-to-month': 0,\n",
        "    'One year': 1,\n",
        "    'Two year': 2\n",
        "})\n",
        "\n",
        "# 7. Unificar valores de servicio\n",
        "cols_servicio = [\n",
        "    'phone_multiplelines',\n",
        "    'internet_onlinesecurity',\n",
        "    'internet_onlinebackup',\n",
        "    'internet_deviceprotection',\n",
        "    'internet_techsupport',\n",
        "    'internet_streamingtv',\n",
        "    'internet_streamingmovies'\n",
        "]\n",
        "for col in cols_servicio:\n",
        "    df[col] = df[col].replace(['No internet service', 'No phone service'], 'No')\n",
        "\n",
        "# 8. Conversión a float\n",
        "df['account_charges_total'] = pd.to_numeric(df['account_charges_total'], errors='coerce')\n",
        "\n",
        "# 9. Crear columna cuentas_diarias\n",
        "df['account_cuentas_diarias'] = df['account_charges_monthly'] / 30\n"
      ]
    },
    {
      "cell_type": "code",
      "source": [
        "# 1) Asegurar numéricas clave\n",
        "num_cols = [\n",
        "    'account_charges_monthly',\n",
        "    'account_charges_total',\n",
        "    'customer_tenure'  # ajusta al nombre real: ej. 'customer_tenure_months'\n",
        "]\n",
        "for c in num_cols:\n",
        "    if c in df.columns:\n",
        "        df[c] = pd.to_numeric(df[c], errors='coerce')\n",
        "\n",
        "# 2) Mapear Yes/No -> 1/0 en servicios\n",
        "cols_yesno = [\n",
        "    'phone_multiplelines',\n",
        "    'internet_onlinesecurity',\n",
        "    'internet_onlinebackup',\n",
        "    'internet_deviceprotection',\n",
        "    'internet_techsupport',\n",
        "    'internet_streamingtv',\n",
        "    'internet_streamingmovies'\n",
        "]\n",
        "for c in cols_yesno:\n",
        "    if c in df.columns:\n",
        "        df[c] = df[c].map({'Yes': 1, 'No': 0})\n",
        "\n",
        "# 3) One-hot para categóricas restantes (ejemplos comunes)\n",
        "cats = []\n",
        "for candidate in ['account_paymentmethod', 'account_contract']:\n",
        "    if candidate in df.columns:\n",
        "        cats.append(candidate)\n",
        "\n",
        "df = pd.get_dummies(df, columns=cats, drop_first=True)\n",
        "\n",
        "# 4) Feature opcional: conteo de servicios activos\n",
        "servicios_bin = [c for c in cols_yesno if c in df.columns]\n",
        "if 'phone_phoneservice' in df.columns:\n",
        "    servicios_bin.append('phone_phoneservice')\n",
        "df['total_servicios'] = df[servicios_bin].sum(axis=1)\n",
        "\n",
        "# 5) Recalcular cuentas_diarias si falta y manejar nulos obvios\n",
        "if 'account_charges_monthly' in df.columns and 'account_cuentas_diarias' not in df.columns:\n",
        "    df['account_cuentas_diarias'] = df['account_charges_monthly'] / 30\n",
        "\n",
        "# 6) Quitar identificadores no predictivos si existen\n",
        "for id_col in ['customer_id', 'customer_customerid', 'id']:\n",
        "    if id_col in df.columns:\n",
        "        df.drop(columns=id_col, inplace=True)\n",
        "\n",
        "# 7) Filas sin target y limpieza final\n",
        "df = df.dropna(subset=['churn'])  # target\n",
        "# (opcional) imputaciones simples:\n",
        "for c in num_cols:\n",
        "    if c in df.columns:\n",
        "        med = df[c].median()\n",
        "        df[c] = df[c].fillna(med)\n",
        "\n",
        "# 8) Guardar dataset tratado\n",
        "df.to_csv('datos_tratados.csv', index=False)\n",
        "print('OK -> datos_tratados.csv')"
      ],
      "metadata": {
        "colab": {
          "base_uri": "https://localhost:8080/"
        },
        "id": "sPRlRuKRcizJ",
        "outputId": "7035e691-885e-4d81-cec9-4e5a9ba4da4c"
      },
      "execution_count": 2,
      "outputs": [
        {
          "output_type": "stream",
          "name": "stdout",
          "text": [
            "OK -> datos_tratados.csv\n"
          ]
        }
      ]
    },
    {
      "cell_type": "code",
      "source": [
        "import pandas as pd\n",
        "\n",
        "# Cargar el archivo limpio\n",
        "df = pd.read_csv('datos_tratados.csv')\n",
        "\n",
        "# Ver primeras filas\n",
        "print(df.head())\n",
        "\n",
        "# Resumen de columnas y tipos de datos\n",
        "print(df.info())\n",
        "\n",
        "# Conteo de valores nulos por columna\n",
        "print(df.isnull().sum())\n"
      ],
      "metadata": {
        "colab": {
          "base_uri": "https://localhost:8080/"
        },
        "id": "duqWcpI8djbh",
        "outputId": "589c15be-5bae-4fae-858d-b2925e1ddc0c"
      },
      "execution_count": 3,
      "outputs": [
        {
          "output_type": "stream",
          "name": "stdout",
          "text": [
            "   customerid  churn  customer_gender  customer_seniorcitizen  \\\n",
            "0  0002-ORFBO    0.0                0                       0   \n",
            "1  0003-MKNFE    0.0                1                       0   \n",
            "2  0004-TLHLJ    1.0                1                       0   \n",
            "3  0011-IGKFF    1.0                1                       1   \n",
            "4  0013-EXCHZ    1.0                0                       1   \n",
            "\n",
            "   customer_partner  customer_dependents  customer_tenure  phone_phoneservice  \\\n",
            "0                 1                    1                9                   1   \n",
            "1                 0                    0                9                   1   \n",
            "2                 0                    0                4                   1   \n",
            "3                 1                    0               13                   1   \n",
            "4                 1                    0                3                   1   \n",
            "\n",
            "   phone_multiplelines  internet_internetservice  ...  \\\n",
            "0                    0                         1  ...   \n",
            "1                    1                         1  ...   \n",
            "2                    0                         2  ...   \n",
            "3                    0                         2  ...   \n",
            "4                    0                         2  ...   \n",
            "\n",
            "   account_charges_monthly  account_charges_total  account_contract_simple  \\\n",
            "0                     65.6                 593.30                        1   \n",
            "1                     59.9                 542.40                        0   \n",
            "2                     73.9                 280.85                        0   \n",
            "3                     98.0                1237.85                        0   \n",
            "4                     83.9                 267.40                        0   \n",
            "\n",
            "   account_cuentas_diarias  account_paymentmethod_Credit card (automatic)  \\\n",
            "0                 2.186667                                          False   \n",
            "1                 1.996667                                          False   \n",
            "2                 2.463333                                          False   \n",
            "3                 3.266667                                          False   \n",
            "4                 2.796667                                          False   \n",
            "\n",
            "   account_paymentmethod_Electronic check  account_paymentmethod_Mailed check  \\\n",
            "0                                   False                                True   \n",
            "1                                   False                                True   \n",
            "2                                    True                               False   \n",
            "3                                    True                               False   \n",
            "4                                   False                                True   \n",
            "\n",
            "   account_contract_One year  account_contract_Two year  total_servicios  \n",
            "0                       True                      False                4  \n",
            "1                      False                      False                3  \n",
            "2                      False                      False                2  \n",
            "3                      False                      False                5  \n",
            "4                      False                      False                3  \n",
            "\n",
            "[5 rows x 27 columns]\n",
            "<class 'pandas.core.frame.DataFrame'>\n",
            "RangeIndex: 7043 entries, 0 to 7042\n",
            "Data columns (total 27 columns):\n",
            " #   Column                                         Non-Null Count  Dtype  \n",
            "---  ------                                         --------------  -----  \n",
            " 0   customerid                                     7043 non-null   object \n",
            " 1   churn                                          7043 non-null   float64\n",
            " 2   customer_gender                                7043 non-null   int64  \n",
            " 3   customer_seniorcitizen                         7043 non-null   int64  \n",
            " 4   customer_partner                               7043 non-null   int64  \n",
            " 5   customer_dependents                            7043 non-null   int64  \n",
            " 6   customer_tenure                                7043 non-null   int64  \n",
            " 7   phone_phoneservice                             7043 non-null   int64  \n",
            " 8   phone_multiplelines                            7043 non-null   int64  \n",
            " 9   internet_internetservice                       7043 non-null   int64  \n",
            " 10  internet_onlinesecurity                        7043 non-null   int64  \n",
            " 11  internet_onlinebackup                          7043 non-null   int64  \n",
            " 12  internet_deviceprotection                      7043 non-null   int64  \n",
            " 13  internet_techsupport                           7043 non-null   int64  \n",
            " 14  internet_streamingtv                           7043 non-null   int64  \n",
            " 15  internet_streamingmovies                       7043 non-null   int64  \n",
            " 16  account_paperlessbilling                       7043 non-null   int64  \n",
            " 17  account_charges_monthly                        7043 non-null   float64\n",
            " 18  account_charges_total                          7043 non-null   float64\n",
            " 19  account_contract_simple                        7043 non-null   int64  \n",
            " 20  account_cuentas_diarias                        7043 non-null   float64\n",
            " 21  account_paymentmethod_Credit card (automatic)  7043 non-null   bool   \n",
            " 22  account_paymentmethod_Electronic check         7043 non-null   bool   \n",
            " 23  account_paymentmethod_Mailed check             7043 non-null   bool   \n",
            " 24  account_contract_One year                      7043 non-null   bool   \n",
            " 25  account_contract_Two year                      7043 non-null   bool   \n",
            " 26  total_servicios                                7043 non-null   int64  \n",
            "dtypes: bool(5), float64(4), int64(17), object(1)\n",
            "memory usage: 1.2+ MB\n",
            "None\n",
            "customerid                                       0\n",
            "churn                                            0\n",
            "customer_gender                                  0\n",
            "customer_seniorcitizen                           0\n",
            "customer_partner                                 0\n",
            "customer_dependents                              0\n",
            "customer_tenure                                  0\n",
            "phone_phoneservice                               0\n",
            "phone_multiplelines                              0\n",
            "internet_internetservice                         0\n",
            "internet_onlinesecurity                          0\n",
            "internet_onlinebackup                            0\n",
            "internet_deviceprotection                        0\n",
            "internet_techsupport                             0\n",
            "internet_streamingtv                             0\n",
            "internet_streamingmovies                         0\n",
            "account_paperlessbilling                         0\n",
            "account_charges_monthly                          0\n",
            "account_charges_total                            0\n",
            "account_contract_simple                          0\n",
            "account_cuentas_diarias                          0\n",
            "account_paymentmethod_Credit card (automatic)    0\n",
            "account_paymentmethod_Electronic check           0\n",
            "account_paymentmethod_Mailed check               0\n",
            "account_contract_One year                        0\n",
            "account_contract_Two year                        0\n",
            "total_servicios                                  0\n",
            "dtype: int64\n"
          ]
        }
      ]
    },
    {
      "cell_type": "code",
      "source": [
        "# Quitar ID\n",
        "if 'customerid' in df.columns:\n",
        "    df.drop(columns=['customerid'], inplace=True)\n",
        "\n",
        "# Convertir booleanos a 0/1\n",
        "df = df.applymap(lambda x: 1 if x is True else (0 if x is False else x))\n",
        "\n",
        "# Verificar que todo sea numérico\n",
        "print(df.dtypes)\n",
        "\n",
        "# Revisar si quedan nulos\n",
        "print(df.isnull().sum())\n"
      ],
      "metadata": {
        "colab": {
          "base_uri": "https://localhost:8080/"
        },
        "id": "HL0A80Nbd7R3",
        "outputId": "db96c4e6-b38d-4ac0-8bc5-b56f53e3d79f"
      },
      "execution_count": 4,
      "outputs": [
        {
          "output_type": "stream",
          "name": "stdout",
          "text": [
            "churn                                            float64\n",
            "customer_gender                                    int64\n",
            "customer_seniorcitizen                             int64\n",
            "customer_partner                                   int64\n",
            "customer_dependents                                int64\n",
            "customer_tenure                                    int64\n",
            "phone_phoneservice                                 int64\n",
            "phone_multiplelines                                int64\n",
            "internet_internetservice                           int64\n",
            "internet_onlinesecurity                            int64\n",
            "internet_onlinebackup                              int64\n",
            "internet_deviceprotection                          int64\n",
            "internet_techsupport                               int64\n",
            "internet_streamingtv                               int64\n",
            "internet_streamingmovies                           int64\n",
            "account_paperlessbilling                           int64\n",
            "account_charges_monthly                          float64\n",
            "account_charges_total                            float64\n",
            "account_contract_simple                            int64\n",
            "account_cuentas_diarias                          float64\n",
            "account_paymentmethod_Credit card (automatic)      int64\n",
            "account_paymentmethod_Electronic check             int64\n",
            "account_paymentmethod_Mailed check                 int64\n",
            "account_contract_One year                          int64\n",
            "account_contract_Two year                          int64\n",
            "total_servicios                                    int64\n",
            "dtype: object\n",
            "churn                                            0\n",
            "customer_gender                                  0\n",
            "customer_seniorcitizen                           0\n",
            "customer_partner                                 0\n",
            "customer_dependents                              0\n",
            "customer_tenure                                  0\n",
            "phone_phoneservice                               0\n",
            "phone_multiplelines                              0\n",
            "internet_internetservice                         0\n",
            "internet_onlinesecurity                          0\n",
            "internet_onlinebackup                            0\n",
            "internet_deviceprotection                        0\n",
            "internet_techsupport                             0\n",
            "internet_streamingtv                             0\n",
            "internet_streamingmovies                         0\n",
            "account_paperlessbilling                         0\n",
            "account_charges_monthly                          0\n",
            "account_charges_total                            0\n",
            "account_contract_simple                          0\n",
            "account_cuentas_diarias                          0\n",
            "account_paymentmethod_Credit card (automatic)    0\n",
            "account_paymentmethod_Electronic check           0\n",
            "account_paymentmethod_Mailed check               0\n",
            "account_contract_One year                        0\n",
            "account_contract_Two year                        0\n",
            "total_servicios                                  0\n",
            "dtype: int64\n"
          ]
        },
        {
          "output_type": "stream",
          "name": "stderr",
          "text": [
            "/tmp/ipython-input-1063984202.py:6: FutureWarning: DataFrame.applymap has been deprecated. Use DataFrame.map instead.\n",
            "  df = df.applymap(lambda x: 1 if x is True else (0 if x is False else x))\n"
          ]
        }
      ]
    },
    {
      "cell_type": "code",
      "source": [
        "# Columnas con NaN que son binarias (0/1)\n",
        "cols_binarias_nan = [\n",
        "    'phone_multiplelines',\n",
        "    'internet_onlinesecurity',\n",
        "    'internet_onlinebackup',\n",
        "    'internet_deviceprotection',\n",
        "    'internet_techsupport',\n",
        "    'internet_streamingtv',\n",
        "    'internet_streamingmovies'\n",
        "]\n",
        "\n",
        "for col in cols_binarias_nan:\n",
        "    df[col] = df[col].fillna(0)\n",
        "\n",
        "# Confirmar que no haya más nulos\n",
        "print(df.isnull().sum().sum())  # Debe dar 0\n"
      ],
      "metadata": {
        "colab": {
          "base_uri": "https://localhost:8080/"
        },
        "id": "vs3e5E1peRlO",
        "outputId": "277ba0b0-e716-40ea-ff7f-de69dee4ff75"
      },
      "execution_count": 5,
      "outputs": [
        {
          "output_type": "stream",
          "name": "stdout",
          "text": [
            "0\n"
          ]
        }
      ]
    },
    {
      "cell_type": "code",
      "source": [
        "# Columnas binarias con NaN (representan \"No\" si falta el valor)\n",
        "cols_binarias_nan = [\n",
        "    'phone_multiplelines',\n",
        "    'internet_onlinesecurity',\n",
        "    'internet_onlinebackup',\n",
        "    'internet_deviceprotection',\n",
        "    'internet_techsupport',\n",
        "    'internet_streamingtv',\n",
        "    'internet_streamingmovies'\n",
        "]\n",
        "\n",
        "# Rellenar NaN con 0\n",
        "for col in cols_binarias_nan:\n",
        "    df[col] = df[col].fillna(0)\n",
        "\n",
        "# Verificar que no queden nulos en todo el DataFrame\n",
        "print(\"Nulos totales después de limpiar:\", df.isnull().sum().sum())\n"
      ],
      "metadata": {
        "colab": {
          "base_uri": "https://localhost:8080/"
        },
        "id": "rTGgSkHxeifw",
        "outputId": "d26d9554-17a9-446e-d976-68fd0e24ba41"
      },
      "execution_count": 6,
      "outputs": [
        {
          "output_type": "stream",
          "name": "stdout",
          "text": [
            "Nulos totales después de limpiar: 0\n"
          ]
        }
      ]
    },
    {
      "cell_type": "code",
      "source": [
        "# Conteo absoluto\n",
        "print(df['churn'].value_counts())\n",
        "\n",
        "# Proporción en porcentaje\n",
        "print(df['churn'].value_counts(normalize=True) * 100)\n"
      ],
      "metadata": {
        "colab": {
          "base_uri": "https://localhost:8080/"
        },
        "id": "vAvXAYdqfnU0",
        "outputId": "c22a47ab-f28b-4128-c86f-88127981c2b8"
      },
      "execution_count": 7,
      "outputs": [
        {
          "output_type": "stream",
          "name": "stdout",
          "text": [
            "churn\n",
            "0.0    5174\n",
            "1.0    1869\n",
            "Name: count, dtype: int64\n",
            "churn\n",
            "0.0    73.463013\n",
            "1.0    26.536987\n",
            "Name: proportion, dtype: float64\n"
          ]
        }
      ]
    },
    {
      "cell_type": "code",
      "source": [
        "from sklearn.model_selection import train_test_split\n",
        "from sklearn.linear_model import LogisticRegression\n",
        "from sklearn.metrics import classification_report, confusion_matrix\n",
        "\n",
        "# 1. Separar features y target\n",
        "X = df.drop(columns=['churn'])\n",
        "y = df['churn']\n",
        "\n",
        "# 2. Train/Test Split (70% entrenamiento, 30% prueba)\n",
        "X_train, X_test, y_train, y_test = train_test_split(\n",
        "    X, y, test_size=0.3, random_state=42, stratify=y\n",
        ")\n",
        "\n",
        "# 3. Crear modelo de Regresión Logística con balance de clases\n",
        "logreg = LogisticRegression(class_weight='balanced', max_iter=1000, random_state=42)\n",
        "\n",
        "# 4. Entrenar\n",
        "logreg.fit(X_train, y_train)\n",
        "\n",
        "# 5. Predicciones\n",
        "y_pred = logreg.predict(X_test)\n",
        "\n",
        "# 6. Evaluación\n",
        "print(\"Matriz de confusión:\\n\", confusion_matrix(y_test, y_pred))\n",
        "print(\"\\nReporte de clasificación:\\n\", classification_report(y_test, y_pred))\n"
      ],
      "metadata": {
        "colab": {
          "base_uri": "https://localhost:8080/"
        },
        "id": "4_l5jzGlgZrk",
        "outputId": "65697c78-9b26-4955-d079-7df1fdd84950"
      },
      "execution_count": 8,
      "outputs": [
        {
          "output_type": "stream",
          "name": "stdout",
          "text": [
            "Matriz de confusión:\n",
            " [[1107  445]\n",
            " [ 108  453]]\n",
            "\n",
            "Reporte de clasificación:\n",
            "               precision    recall  f1-score   support\n",
            "\n",
            "         0.0       0.91      0.71      0.80      1552\n",
            "         1.0       0.50      0.81      0.62       561\n",
            "\n",
            "    accuracy                           0.74      2113\n",
            "   macro avg       0.71      0.76      0.71      2113\n",
            "weighted avg       0.80      0.74      0.75      2113\n",
            "\n"
          ]
        },
        {
          "output_type": "stream",
          "name": "stderr",
          "text": [
            "/usr/local/lib/python3.11/dist-packages/sklearn/linear_model/_logistic.py:465: ConvergenceWarning: lbfgs failed to converge (status=1):\n",
            "STOP: TOTAL NO. OF ITERATIONS REACHED LIMIT.\n",
            "\n",
            "Increase the number of iterations (max_iter) or scale the data as shown in:\n",
            "    https://scikit-learn.org/stable/modules/preprocessing.html\n",
            "Please also refer to the documentation for alternative solver options:\n",
            "    https://scikit-learn.org/stable/modules/linear_model.html#logistic-regression\n",
            "  n_iter_i = _check_optimize_result(\n"
          ]
        }
      ]
    },
    {
      "cell_type": "code",
      "source": [
        "logreg = LogisticRegression(class_weight='balanced', max_iter=5000, random_state=42)\n"
      ],
      "metadata": {
        "id": "KeAFiTQwgt6Q"
      },
      "execution_count": 9,
      "outputs": []
    },
    {
      "cell_type": "code",
      "source": [
        "from sklearn.ensemble import RandomForestClassifier\n",
        "from sklearn.metrics import classification_report, confusion_matrix, roc_auc_score, roc_curve\n",
        "import numpy as np\n",
        "import pandas as pd\n",
        "\n",
        "# Entrenar Random Forest con balance de clases\n",
        "rf = RandomForestClassifier(\n",
        "    n_estimators=400,\n",
        "    max_depth=None,\n",
        "    min_samples_split=2,\n",
        "    min_samples_leaf=1,\n",
        "    random_state=42,\n",
        "    class_weight='balanced',\n",
        "    n_jobs=-1\n",
        ")\n",
        "rf.fit(X_train, y_train)\n",
        "\n",
        "# Predicciones\n",
        "y_pred_rf = rf.predict(X_test)\n",
        "y_prob_rf = rf.predict_proba(X_test)[:, 1]\n",
        "\n",
        "# Métricas\n",
        "print(\"== Random Forest ==\")\n",
        "print(\"Matriz de confusión:\\n\", confusion_matrix(y_test, y_pred_rf))\n",
        "print(\"\\nReporte de clasificación:\\n\", classification_report(y_test, y_pred_rf))\n",
        "print(\"ROC-AUC:\", roc_auc_score(y_test, y_prob_rf))\n",
        "\n",
        "# Importancia de variables (top 10)\n",
        "importancias = pd.Series(rf.feature_importances_, index=X_train.columns).sort_values(ascending=False)\n",
        "print(\"\\nTop 10 features más importantes:\\n\", importancias.head(10))\n"
      ],
      "metadata": {
        "colab": {
          "base_uri": "https://localhost:8080/"
        },
        "id": "wILBDMM_hXPn",
        "outputId": "bb1546c6-cfea-4303-e6b9-55da520b8396"
      },
      "execution_count": 10,
      "outputs": [
        {
          "output_type": "stream",
          "name": "stdout",
          "text": [
            "== Random Forest ==\n",
            "Matriz de confusión:\n",
            " [[1377  175]\n",
            " [ 281  280]]\n",
            "\n",
            "Reporte de clasificación:\n",
            "               precision    recall  f1-score   support\n",
            "\n",
            "         0.0       0.83      0.89      0.86      1552\n",
            "         1.0       0.62      0.50      0.55       561\n",
            "\n",
            "    accuracy                           0.78      2113\n",
            "   macro avg       0.72      0.69      0.70      2113\n",
            "weighted avg       0.77      0.78      0.78      2113\n",
            "\n",
            "ROC-AUC: 0.82708126596468\n",
            "\n",
            "Top 10 features más importantes:\n",
            " customer_tenure                           0.139700\n",
            "account_charges_total                     0.138681\n",
            "account_cuentas_diarias                   0.122286\n",
            "account_charges_monthly                   0.119799\n",
            "account_contract_simple                   0.087128\n",
            "account_contract_Two year                 0.047127\n",
            "internet_internetservice                  0.043533\n",
            "account_paymentmethod_Electronic check    0.034091\n",
            "total_servicios                           0.030080\n",
            "account_paperlessbilling                  0.022477\n",
            "dtype: float64\n"
          ]
        }
      ]
    },
    {
      "cell_type": "code",
      "source": [
        "from imblearn.over_sampling import SMOTE\n",
        "from sklearn.ensemble import RandomForestClassifier\n",
        "from sklearn.metrics import classification_report, confusion_matrix, roc_auc_score\n",
        "import pandas as pd\n",
        "\n",
        "# 1. Aplicar SMOTE solo al conjunto de entrenamiento\n",
        "smote = SMOTE(random_state=42)\n",
        "X_train_smote, y_train_smote = smote.fit_resample(X_train, y_train)\n",
        "\n",
        "print(\"Distribución original:\", y_train.value_counts())\n",
        "print(\"Distribución balanceada con SMOTE:\", y_train_smote.value_counts())\n",
        "\n",
        "# 2. Entrenar Random Forest con datos balanceados\n",
        "rf_smote = RandomForestClassifier(\n",
        "    n_estimators=400,\n",
        "    random_state=42,\n",
        "    n_jobs=-1\n",
        ")\n",
        "rf_smote.fit(X_train_smote, y_train_smote)\n",
        "\n",
        "# 3. Predicciones\n",
        "y_pred_smote = rf_smote.predict(X_test)\n",
        "y_prob_smote = rf_smote.predict_proba(X_test)[:, 1]\n",
        "\n",
        "# 4. Evaluación\n",
        "print(\"\\n== Random Forest con SMOTE ==\")\n",
        "print(\"Matriz de confusión:\\n\", confusion_matrix(y_test, y_pred_smote))\n",
        "print(\"\\nReporte de clasificación:\\n\", classification_report(y_test, y_pred_smote))\n",
        "print(\"ROC-AUC:\", roc_auc_score(y_test, y_prob_smote))\n",
        "\n",
        "# 5. Importancia de variables\n",
        "importancias_smote = pd.Series(rf_smote.feature_importances_, index=X_train.columns).sort_values(ascending=False)\n",
        "print(\"\\nTop 10 features más importantes con SMOTE:\\n\", importancias_smote.head(10))\n"
      ],
      "metadata": {
        "colab": {
          "base_uri": "https://localhost:8080/"
        },
        "id": "LC48e7zth8UQ",
        "outputId": "5a4b46fd-d038-4e88-b2c2-a8b6194680c1"
      },
      "execution_count": null,
      "outputs": [
        {
          "output_type": "stream",
          "name": "stdout",
          "text": [
            "Distribución original: churn\n",
            "0.0    3622\n",
            "1.0    1308\n",
            "Name: count, dtype: int64\n",
            "Distribución balanceada con SMOTE: churn\n",
            "0.0    3622\n",
            "1.0    3622\n",
            "Name: count, dtype: int64\n"
          ]
        }
      ]
    },
    {
      "cell_type": "code",
      "source": [
        "import matplotlib.pyplot as plt\n",
        "import seaborn as sns\n",
        "\n",
        "# Matriz de correlación\n",
        "corr = df.corr()\n",
        "\n",
        "# Correlaciones con churn, ordenadas\n",
        "print(corr['churn'].sort_values(ascending=False))\n",
        "\n",
        "# Visualización (opcional, más visual)\n",
        "plt.figure(figsize=(12, 8))\n",
        "sns.heatmap(corr, annot=False, cmap='coolwarm', center=0)\n",
        "plt.title(\"Matriz de correlación\", fontsize=16)\n",
        "plt.show()\n"
      ],
      "metadata": {
        "id": "G4s61zMVipUQ"
      },
      "execution_count": null,
      "outputs": []
    },
    {
      "cell_type": "code",
      "source": [
        "import matplotlib.pyplot as plt\n",
        "import seaborn as sns\n",
        "\n",
        "# Boxplot: Tiempo de contrato vs Cancelación\n",
        "plt.figure(figsize=(8,5))\n",
        "sns.boxplot(x='churn', y='customer_tenure', data=df)\n",
        "plt.title('Tiempo de contrato vs Cancelación')\n",
        "plt.xlabel('Canceló (1=Sí, 0=No)')\n",
        "plt.ylabel('Tiempo de contrato (meses)')\n",
        "plt.show()\n",
        "\n",
        "# Boxplot: Gasto total vs Cancelación\n",
        "plt.figure(figsize=(8,5))\n",
        "sns.boxplot(x='churn', y='account_charges_total', data=df)\n",
        "plt.title('Gasto total vs Cancelación')\n",
        "plt.xlabel('Canceló (1=Sí, 0=No)')\n",
        "plt.ylabel('Gasto total ($)')\n",
        "plt.show()\n"
      ],
      "metadata": {
        "id": "hvHFLRdmjXzh"
      },
      "execution_count": null,
      "outputs": []
    },
    {
      "cell_type": "code",
      "source": [
        "from sklearn.model_selection import train_test_split\n",
        "\n",
        "# X = variables independientes\n",
        "# y = variable objetivo (churn)\n",
        "X_train, X_test, y_train, y_test = train_test_split(\n",
        "    X, y,\n",
        "    test_size=0.3,   # 30% prueba, 70% entrenamiento\n",
        "    random_state=42, # para reproducibilidad\n",
        "    stratify=y       # mantiene proporción de clases\n",
        ")\n",
        "\n",
        "print(\"Tamaño X_train:\", X_train.shape)\n",
        "print(\"Tamaño X_test:\", X_test.shape)\n",
        "print(\"Tamaño y_train:\", y_train.shape)\n",
        "print(\"Tamaño y_test:\", y_test.shape)\n"
      ],
      "metadata": {
        "id": "ZRxr0GpHkvpQ"
      },
      "execution_count": null,
      "outputs": []
    },
    {
      "cell_type": "code",
      "source": [
        "from sklearn.preprocessing import StandardScaler\n",
        "from sklearn.pipeline import Pipeline\n",
        "from sklearn.linear_model import LogisticRegression\n",
        "from sklearn.metrics import classification_report, confusion_matrix, roc_auc_score\n",
        "\n",
        "# Pipeline: normalización + regresión logística\n",
        "pipe_logreg = Pipeline([\n",
        "    ('scaler', StandardScaler()),\n",
        "    ('model', LogisticRegression(class_weight='balanced', max_iter=5000, random_state=42))\n",
        "])\n",
        "\n",
        "# Entrenar\n",
        "pipe_logreg.fit(X_train, y_train)\n",
        "\n",
        "# Predicciones\n",
        "y_pred_logreg = pipe_logreg.predict(X_test)\n",
        "y_prob_logreg = pipe_logreg.predict_proba(X_test)[:, 1]\n",
        "\n",
        "# Resultados\n",
        "print(\"=== Modelo 1: Regresión Logística (con normalización) ===\")\n",
        "print(\"Matriz de confusión:\\n\", confusion_matrix(y_test, y_pred_logreg))\n",
        "print(\"\\nReporte de clasificación:\\n\", classification_report(y_test, y_pred_logreg))\n",
        "print(\"ROC-AUC:\", roc_auc_score(y_test, y_prob_logreg))\n"
      ],
      "metadata": {
        "id": "zj2zc7BjlwQ9"
      },
      "execution_count": null,
      "outputs": []
    },
    {
      "cell_type": "code",
      "source": [
        "from sklearn.ensemble import RandomForestClassifier\n",
        "\n",
        "# Modelo sin normalización\n",
        "rf = RandomForestClassifier(\n",
        "    n_estimators=400,\n",
        "    random_state=42,\n",
        "    class_weight='balanced',\n",
        "    n_jobs=-1\n",
        ")\n",
        "\n",
        "# Entrenar\n",
        "rf.fit(X_train, y_train)\n",
        "\n",
        "# Predicciones\n",
        "y_pred_rf = rf.predict(X_test)\n",
        "y_prob_rf = rf.predict_proba(X_test)[:, 1]\n",
        "\n",
        "# Resultados\n",
        "print(\"=== Modelo 2: Random Forest (sin normalización) ===\")\n",
        "print(\"Matriz de confusión:\\n\", confusion_matrix(y_test, y_pred_rf))\n",
        "print(\"\\nReporte de clasificación:\\n\", classification_report(y_test, y_pred_rf))\n",
        "print(\"ROC-AUC:\", roc_auc_score(y_test, y_prob_rf))\n"
      ],
      "metadata": {
        "id": "mLbBnThsl6wV"
      },
      "execution_count": null,
      "outputs": []
    },
    {
      "cell_type": "code",
      "source": [
        "# Extraer coeficientes del modelo\n",
        "coeficientes = pipe_logreg.named_steps['model'].coef_[0]\n",
        "variables = X_train.columns\n",
        "importancia_logreg = pd.Series(coeficientes, index=variables).sort_values(key=abs, ascending=False)\n",
        "\n",
        "print(importancia_logreg.head(10))\n"
      ],
      "metadata": {
        "id": "ZC9GghJ_mmvM"
      },
      "execution_count": null,
      "outputs": []
    },
    {
      "cell_type": "code",
      "source": [
        "importancias_rf = pd.Series(rf.feature_importances_, index=X_train.columns).sort_values(ascending=False)\n",
        "print(importancias_rf.head(10))\n"
      ],
      "metadata": {
        "id": "tuDPR5xRmxmx"
      },
      "execution_count": null,
      "outputs": []
    },
    {
      "cell_type": "code",
      "source": [
        "import matplotlib.pyplot as plt\n",
        "from sklearn.metrics import roc_curve, roc_auc_score\n",
        "\n",
        "# ==== Modelo 1: Regresión Logística ====\n",
        "fpr_log, tpr_log, _ = roc_curve(y_test, y_prob_logreg)\n",
        "auc_log = roc_auc_score(y_test, y_prob_logreg)\n",
        "\n",
        "# ==== Modelo 2: Random Forest ====\n",
        "fpr_rf, tpr_rf, _ = roc_curve(y_test, y_prob_rf)\n",
        "auc_rf = roc_auc_score(y_test, y_prob_rf)\n",
        "\n",
        "# ==== Gráfico ROC ====\n",
        "plt.figure(figsize=(8,6))\n",
        "plt.plot(fpr_log, tpr_log, label=f\"Regresión Logística (AUC = {auc_log:.3f})\")\n",
        "plt.plot(fpr_rf, tpr_rf, label=f\"Random Forest (AUC = {auc_rf:.3f})\")\n",
        "plt.plot([0,1], [0,1], 'k--')  # línea aleatoria\n",
        "plt.xlabel(\"Tasa de Falsos Positivos (FPR)\")\n",
        "plt.ylabel(\"Tasa de Verdaderos Positivos (TPR)\")\n",
        "plt.title(\"Curvas ROC – Comparación de Modelos\")\n",
        "plt.legend()\n",
        "plt.show()\n"
      ],
      "metadata": {
        "id": "SQaFUGyNnLfz"
      },
      "execution_count": null,
      "outputs": []
    }
  ]
}